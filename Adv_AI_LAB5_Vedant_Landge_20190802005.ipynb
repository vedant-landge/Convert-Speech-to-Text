{
  "nbformat": 4,
  "nbformat_minor": 0,
  "metadata": {
    "colab": {
      "provenance": []
    },
    "kernelspec": {
      "name": "python3",
      "display_name": "Python 3"
    },
    "language_info": {
      "name": "python"
    }
  },
  "cells": [
    {
      "cell_type": "markdown",
      "source": [
        "# LAB 5\n",
        "--------------------------------------------------------------------------------\n",
        "# Name : Vedant R Landge\n",
        "# PRN : 20190802005\n",
        "# ADVANCED AI\n",
        "# AIM : Convert Speech to Text"
      ],
      "metadata": {
        "id": "aIlKb1N4eepk"
      }
    },
    {
      "cell_type": "code",
      "source": [
        "from google.colab import drive\n",
        "drive.mount('/content/drive')"
      ],
      "metadata": {
        "colab": {
          "base_uri": "https://localhost:8080/"
        },
        "id": "S0K7krbgy-3g",
        "outputId": "d815fcb2-e6d0-408a-b8ad-ff8269616a2a"
      },
      "execution_count": 1,
      "outputs": [
        {
          "output_type": "stream",
          "name": "stdout",
          "text": [
            "Drive already mounted at /content/drive; to attempt to forcibly remount, call drive.mount(\"/content/drive\", force_remount=True).\n"
          ]
        }
      ]
    },
    {
      "cell_type": "markdown",
      "source": [
        "### 1. Read the audio file. Audio file"
      ],
      "metadata": {
        "id": "ljB5oGX1fkDz"
      }
    },
    {
      "cell_type": "markdown",
      "source": [
        "### 2. Import libraries."
      ],
      "metadata": {
        "id": "bohvmLcOftwm"
      }
    },
    {
      "cell_type": "code",
      "execution_count": 2,
      "metadata": {
        "colab": {
          "base_uri": "https://localhost:8080/"
        },
        "id": "oWO4hf1-a-d8",
        "outputId": "b06576d6-09e9-4633-de37-84bc32c9f241"
      },
      "outputs": [
        {
          "output_type": "stream",
          "name": "stdout",
          "text": [
            "Looking in indexes: https://pypi.org/simple, https://us-python.pkg.dev/colab-wheels/public/simple/\n",
            "Requirement already satisfied: pydub in /usr/local/lib/python3.7/dist-packages (0.25.1)\n"
          ]
        }
      ],
      "source": [
        "!pip install pydub"
      ]
    },
    {
      "cell_type": "code",
      "source": [
        "!pip install speechrecognition"
      ],
      "metadata": {
        "colab": {
          "base_uri": "https://localhost:8080/"
        },
        "id": "c4VBTsXRf2hi",
        "outputId": "2091d716-4e06-4c1a-c8bb-9305f168cf4b"
      },
      "execution_count": 3,
      "outputs": [
        {
          "output_type": "stream",
          "name": "stdout",
          "text": [
            "Looking in indexes: https://pypi.org/simple, https://us-python.pkg.dev/colab-wheels/public/simple/\n",
            "Requirement already satisfied: speechrecognition in /usr/local/lib/python3.7/dist-packages (3.8.1)\n"
          ]
        }
      ]
    },
    {
      "cell_type": "code",
      "source": [
        "import speech_recognition as sr\n",
        "import os\n",
        "from pydub import AudioSegment\n",
        "from pydub.silence import split_on_silence"
      ],
      "metadata": {
        "id": "DmEv3RzHf9wU"
      },
      "execution_count": 4,
      "outputs": []
    },
    {
      "cell_type": "code",
      "source": [
        "r = sr.Recognizer()"
      ],
      "metadata": {
        "id": "-Gnn3-mygOGW"
      },
      "execution_count": 5,
      "outputs": []
    },
    {
      "cell_type": "markdown",
      "source": [
        "### 3. Open the audio file using pydub."
      ],
      "metadata": {
        "id": "-_Wb0ObdgY_S"
      }
    },
    {
      "cell_type": "code",
      "source": [
        "sound = AudioSegment.from_wav('machine-learning_speech-recognition_7601-291468-0006.wav')"
      ],
      "metadata": {
        "id": "EQmRXD7egROL"
      },
      "execution_count": 6,
      "outputs": []
    },
    {
      "cell_type": "markdown",
      "source": [
        "### 4. Split audio sound where silence is 700 milliseconds or more and get chunks."
      ],
      "metadata": {
        "id": "4rprz9B1g2Nr"
      }
    },
    {
      "cell_type": "code",
      "source": [
        "chunks = split_on_silence(sound, min_silence_len=500, silence_thresh=sound.dBFS-15, keep_silence=500)"
      ],
      "metadata": {
        "id": "D0pri0Rug0iU"
      },
      "execution_count": 7,
      "outputs": []
    },
    {
      "cell_type": "markdown",
      "source": [
        "### 5. Create a directory to store the audio chunks."
      ],
      "metadata": {
        "id": "vbZ5xPpIhRrv"
      }
    },
    {
      "cell_type": "code",
      "source": [
        "os.mkdir('/content/drive/MyDrive/LAB5_AdvAI')"
      ],
      "metadata": {
        "id": "8L_gXaPihP_L"
      },
      "execution_count": 8,
      "outputs": []
    },
    {
      "cell_type": "code",
      "source": [
        "whole_text = \"\""
      ],
      "metadata": {
        "id": "tvzxilzDiOeX"
      },
      "execution_count": 9,
      "outputs": []
    },
    {
      "cell_type": "markdown",
      "source": [
        "### 6. Process each chunk."
      ],
      "metadata": {
        "id": "1ObMQ88Wijyn"
      }
    },
    {
      "cell_type": "code",
      "source": [
        "for i, audio_chunk in enumerate(chunks):\n",
        "\n",
        "  chunk_filename = os.path.join('/content/drive/MyDrive/LAB5_AdvAI, f_chunk')\n",
        "  audio_chunk.export(chunk_filename, format='wav')\n",
        "\n",
        "  with sr.AudioFile(chunk_filename) as source:\n",
        "    audio_listened = r.record(source)\n",
        "\n",
        "    text = r.recognize_google(audio_listened)\n",
        "    text = f\"{text.capitalize()}.\"\n",
        "    print(text)\n",
        "    whole_text += text"
      ],
      "metadata": {
        "colab": {
          "base_uri": "https://localhost:8080/"
        },
        "id": "rn2H7m1iiie5",
        "outputId": "c8f7502c-fc0b-4946-d166-4e230889f17c"
      },
      "execution_count": 10,
      "outputs": [
        {
          "output_type": "stream",
          "name": "stdout",
          "text": [
            "His abode which you had fixed in a bowery or country seat.\n",
            "Have a short distance from the city.\n",
            "Just at what is now called dutch street.\n",
            "Soon abounded with proofs of his ingenuity.\n",
            "Patent smokejack.\n",
            "It required a horse to work some.\n",
            "Dutch oven roasted meat without fire.\n",
            "Carts that went before the horses.\n",
            "Weather cox that turned against the wind and other wrongheaded contrivances.\n",
            "So just understand confound it all beholders.\n"
          ]
        }
      ]
    },
    {
      "cell_type": "markdown",
      "source": [
        "### 10. Print the whole text for all chunks detected."
      ],
      "metadata": {
        "id": "08SF9Z38wRBT"
      }
    },
    {
      "cell_type": "code",
      "source": [
        "whole_text"
      ],
      "metadata": {
        "colab": {
          "base_uri": "https://localhost:8080/",
          "height": 87
        },
        "id": "UuWVHxpVwNYT",
        "outputId": "e65143ad-380c-4a6c-a4d8-0dd24042ff1a"
      },
      "execution_count": 11,
      "outputs": [
        {
          "output_type": "execute_result",
          "data": {
            "text/plain": [
              "'His abode which you had fixed in a bowery or country seat.Have a short distance from the city.Just at what is now called dutch street.Soon abounded with proofs of his ingenuity.Patent smokejack.It required a horse to work some.Dutch oven roasted meat without fire.Carts that went before the horses.Weather cox that turned against the wind and other wrongheaded contrivances.So just understand confound it all beholders.'"
            ],
            "application/vnd.google.colaboratory.intrinsic+json": {
              "type": "string"
            }
          },
          "metadata": {},
          "execution_count": 11
        }
      ]
    }
  ]
}